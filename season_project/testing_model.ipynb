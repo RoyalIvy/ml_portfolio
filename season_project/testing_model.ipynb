{
 "cells": [
  {
   "cell_type": "code",
   "execution_count": 3,
   "id": "initial_id",
   "metadata": {
    "ExecuteTime": {
     "end_time": "2024-02-06T14:29:02.347983800Z",
     "start_time": "2024-02-06T14:29:02.345456400Z"
    }
   },
   "outputs": [],
   "source": [
    "from tensorflow import keras\n",
    "from tensorflow.keras.preprocessing import image\n",
    "from tensorflow.keras.applications.resnet50 import preprocess_input\n",
    "import numpy as np"
   ]
  },
  {
   "cell_type": "code",
   "execution_count": 248,
   "id": "ad98cbebd94fe36b",
   "metadata": {
    "ExecuteTime": {
     "end_time": "2024-02-04T17:36:04.498791400Z",
     "start_time": "2024-02-04T17:36:04.496287200Z"
    },
    "collapsed": false
   },
   "outputs": [],
   "source": [
    "# Указываем путь к дообученной нейрости\n",
    "model_path = '../../test_model/model_test_final'"
   ]
  },
  {
   "cell_type": "code",
   "execution_count": 249,
   "id": "53267ecc80984db5",
   "metadata": {
    "ExecuteTime": {
     "end_time": "2024-02-04T17:36:08.555357400Z",
     "start_time": "2024-02-04T17:36:04.916533500Z"
    },
    "collapsed": false
   },
   "outputs": [],
   "source": [
    "# Определяем модель\n",
    "model = keras.models.load_model(model_path, custom_objects=None, compile=True, options=None)"
   ]
  },
  {
   "cell_type": "code",
   "execution_count": 313,
   "id": "7b2cdcd9aec99a4f",
   "metadata": {
    "ExecuteTime": {
     "end_time": "2024-02-04T17:46:33.341238900Z",
     "start_time": "2024-02-04T17:46:33.334198100Z"
    },
    "collapsed": false
   },
   "outputs": [],
   "source": [
    "# Загружаем изображение по нужному пути\n",
    "img_path = '../../summer/photo-20230616.jpeg'\n",
    "\n",
    "# Далее подготавливаем изображение для загрузки в нейросеть\n",
    "img = image.load_img(img_path, target_size=(224, 224))\n",
    "img_array = image.img_to_array(img)\n",
    "img_array = np.expand_dims(img_array, axis=0)\n",
    "img_array = preprocess_input(img_array)"
   ]
  },
  {
   "cell_type": "code",
   "execution_count": 314,
   "id": "d99dd9f97b27c85",
   "metadata": {
    "ExecuteTime": {
     "end_time": "2024-02-04T17:46:33.453214400Z",
     "start_time": "2024-02-04T17:46:33.451135600Z"
    },
    "collapsed": false
   },
   "outputs": [],
   "source": [
    "# Инициализируем словарь с классами для предсказаний \n",
    "classes = {0: 'spring', 1: 'summer', 2: 'autumn', 3: 'winter'}"
   ]
  },
  {
   "cell_type": "code",
   "execution_count": 315,
   "id": "4de287ddd3f55b97",
   "metadata": {
    "ExecuteTime": {
     "end_time": "2024-02-04T17:46:33.814402900Z",
     "start_time": "2024-02-04T17:46:33.722022800Z"
    },
    "collapsed": false
   },
   "outputs": [
    {
     "name": "stdout",
     "output_type": "stream",
     "text": [
      "1/1 [==============================] - 0s 61ms/step\n",
      "It's more like summer\n"
     ]
    }
   ],
   "source": [
    "# Загружаем изображение в модель...\n",
    "pred = np.argmax(model.predict(img_array))\n",
    "\n",
    "# Получаем предсказание\n",
    "predicted_season = classes[pred]\n",
    "print(\"It's more like\", predicted_season)"
   ]
  },
  {
   "cell_type": "code",
   "execution_count": 237,
   "id": "fd557979b43ed00b",
   "metadata": {
    "ExecuteTime": {
     "end_time": "2024-02-04T17:29:24.459548200Z",
     "start_time": "2024-02-04T17:29:24.456484700Z"
    },
    "collapsed": false
   },
   "outputs": [],
   "source": [
    "    "
   ]
  }
 ],
 "metadata": {
  "kernelspec": {
   "display_name": "Python 3 (ipykernel)",
   "language": "python",
   "name": "python3"
  },
  "language_info": {
   "codemirror_mode": {
    "name": "ipython",
    "version": 3
   },
   "file_extension": ".py",
   "mimetype": "text/x-python",
   "name": "python",
   "nbconvert_exporter": "python",
   "pygments_lexer": "ipython3",
   "version": "3.11.7"
  }
 },
 "nbformat": 4,
 "nbformat_minor": 5
}
