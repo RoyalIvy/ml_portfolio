{
 "cells": [
  {
   "cell_type": "code",
   "outputs": [],
   "source": [
    "import cv2\n",
    "import numpy as np\n",
    "\n",
    "import matplotlib.pyplot as plt"
   ],
   "metadata": {
    "collapsed": false,
    "ExecuteTime": {
     "end_time": "2024-02-21T09:15:52.650489Z",
     "start_time": "2024-02-21T09:15:51.885168100Z"
    }
   },
   "id": "ec788d3b7ee399c6",
   "execution_count": 1
  },
  {
   "cell_type": "code",
   "outputs": [],
   "source": [
    "panorama_image = cv2.imread('image_1024_aligned_rgb.png')"
   ],
   "metadata": {
    "collapsed": false,
    "ExecuteTime": {
     "end_time": "2024-02-21T09:15:52.662567300Z",
     "start_time": "2024-02-21T09:15:52.650489Z"
    }
   },
   "id": "2ab037b39f71801f",
   "execution_count": 2
  },
  {
   "cell_type": "code",
   "outputs": [],
   "source": [
    "# Функция преобразования, в которую передаются угол обзора(fov), угол вращения по горизонтали(theta),\n",
    "# угол вращения по вертикали(phi), ширина(width), высота(height)\n",
    "\n",
    "def GetPerspective(fov, theta, phi, width, height):\n",
    "        \n",
    "        # Высота и ширина панорамы\n",
    "        equ_h = panorama_image.shape[0]\n",
    "        equ_w = panorama_image.shape[1]\n",
    "        \n",
    "        # Координаты центра панорамы\n",
    "        equ_cx = (equ_w - 1) / 2.0\n",
    "        equ_cy = (equ_h - 1) / 2.0\n",
    "\n",
    "        # Горизонтальное и вертикальное поля зрения\n",
    "        wFOV = fov\n",
    "        hFOV = float(height) / width * wFOV\n",
    "\n",
    "        # Половины ширины и высоты поля зрения в радианах\n",
    "        w_len = np.tan(np.radians(wFOV / 2.0))\n",
    "        h_len = np.tan(np.radians(hFOV / 2.0))\n",
    "\n",
    "        # Двумерные карты координат в пространстве \n",
    "        x_map = np.ones([height, width], np.float32)\n",
    "        y_map = np.tile(np.linspace(-w_len, w_len,width), [height,1])\n",
    "        z_map = -np.tile(np.linspace(-h_len, h_len,height), [width,1]).T\n",
    "\n",
    "        # Расстояние от точек на сфере до начала координат\n",
    "        D = np.sqrt(x_map**2 + y_map**2 + z_map**2)\n",
    "        \n",
    "        # Трехмерные координаты точек на сфере \n",
    "        xyz = np.stack((x_map,y_map,z_map),axis=2)/np.repeat(D[:, :, np.newaxis], 3, axis=2)\n",
    "        \n",
    "        # Векторы осей вращения по y и z\n",
    "        y_axis = np.array([0.0, 1.0, 0.0], np.float32)\n",
    "        z_axis = np.array([0.0, 0.0, 1.0], np.float32)\n",
    "        \n",
    "        # Матрица вращения для поворота вокруг y, z осей\n",
    "        [R1, _] = cv2.Rodrigues(z_axis * np.radians(theta))\n",
    "        [R2, _] = cv2.Rodrigues(np.dot(R1, y_axis) * np.radians(-phi))\n",
    "\n",
    "        # Преобразование формы массива xyz для смены осей местами\n",
    "        xyz = xyz.reshape([height * width, 3]).T\n",
    "        \n",
    "        # Вращение с помощью R1 и R2\n",
    "        xyz = np.dot(R1, xyz)\n",
    "        xyz = np.dot(R2, xyz).T\n",
    "        \n",
    "        # Широта и долгота точек на сфере\n",
    "        lat = np.arcsin(xyz[:, 2])\n",
    "        lon = np.arctan2(xyz[:, 1] , xyz[:, 0])\n",
    "\n",
    "        # Преобразование в пиксельные координаты на плоскости панорамы \n",
    "        lon = lon.reshape([height, width]) / np.pi * 180\n",
    "        lat = -lat.reshape([height, width]) / np.pi * 180\n",
    "\n",
    "        # Преобразование широты и долготы с учетом центров equ_cx, equ_cy\n",
    "        lon = lon / 180 * equ_cx + equ_cx\n",
    "        lat = lat / 90  * equ_cy + equ_cy\n",
    "\n",
    "        # Перспективное преобразование с использованием координат широты и долготы\n",
    "        perspective = cv2.remap(panorama_image, lon.astype(np.float32), lat.astype(np.float32), cv2.INTER_CUBIC, borderMode=cv2.BORDER_WRAP)\n",
    "        return perspective"
   ],
   "metadata": {
    "collapsed": false,
    "ExecuteTime": {
     "end_time": "2024-02-21T09:17:14.739415700Z",
     "start_time": "2024-02-21T09:17:14.718518Z"
    }
   },
   "id": "ebd2e5b868a62cfd",
   "execution_count": 4
  },
  {
   "cell_type": "code",
   "outputs": [],
   "source": [
    "# Угол обзора 90 градусов для наименьших искажений\n",
    "fov = 90 \n",
    "width, height = 1650, 1650\n",
    "\n",
    "wall1_image = GetPerspective(fov, 0, 0, width, height)\n",
    "wall2_image = GetPerspective(fov, 90, 0, width, height)\n",
    "wall3_image = GetPerspective(fov, 120, 0, width, height)\n",
    "wall4_image = GetPerspective(fov, 160, 0, width, height)\n",
    "wall5_image = GetPerspective(fov, 180, 0, width, height)\n",
    "wall6_image = GetPerspective(fov, -90, 0, width, height)\n",
    "floor_image = GetPerspective(fov, 0, -90, width, height)\n",
    "ceil_image = GetPerspective(fov, 0, 90, width, height)"
   ],
   "metadata": {
    "collapsed": false,
    "is_executing": true
   },
   "id": "bd5d5dff6788a52d",
   "execution_count": null
  },
  {
   "cell_type": "code",
   "outputs": [],
   "source": [
    "image_list = [wall1_image, wall2_image, wall3_image, wall4_image, wall5_image, wall6_image, floor_image, ceil_image]"
   ],
   "metadata": {
    "collapsed": false,
    "ExecuteTime": {
     "end_time": "2024-02-21T09:17:20.183440200Z",
     "start_time": "2024-02-21T09:17:20.180397600Z"
    }
   },
   "id": "fdd329fbc9c5c47f",
   "execution_count": 6
  },
  {
   "cell_type": "code",
   "outputs": [],
   "source": [
    "for image in image_list:\n",
    "        plt.figure(figsize=(10, 10))\n",
    "        plt.imshow(image)\n",
    "plt.show()"
   ],
   "metadata": {
    "collapsed": false
   },
   "id": "ab4c5093159b7c89"
  },
  {
   "cell_type": "code",
   "outputs": [],
   "source": [
    "for i, image in enumerate(image_list, start=0):\n",
    "        cv2.imwrite(f'{i}_proj.jpg', image)"
   ],
   "metadata": {
    "collapsed": false,
    "ExecuteTime": {
     "end_time": "2024-02-21T09:18:44.304894300Z",
     "start_time": "2024-02-21T09:18:44.048637800Z"
    }
   },
   "id": "30de43a0f2e44613",
   "execution_count": 8
  },
  {
   "cell_type": "code",
   "outputs": [],
   "source": [],
   "metadata": {
    "collapsed": false
   },
   "id": "b895134dc2f6b730"
  }
 ],
 "metadata": {
  "kernelspec": {
   "display_name": "Python 3",
   "language": "python",
   "name": "python3"
  },
  "language_info": {
   "codemirror_mode": {
    "name": "ipython",
    "version": 2
   },
   "file_extension": ".py",
   "mimetype": "text/x-python",
   "name": "python",
   "nbconvert_exporter": "python",
   "pygments_lexer": "ipython2",
   "version": "2.7.6"
  }
 },
 "nbformat": 4,
 "nbformat_minor": 5
}
